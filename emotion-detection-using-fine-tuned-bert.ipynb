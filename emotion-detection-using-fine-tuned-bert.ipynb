{
 "cells": [
  {
   "cell_type": "code",
   "execution_count": 1,
   "metadata": {
    "_cell_guid": "b1076dfc-b9ad-4769-8c92-a6c4dae69d19",
    "_uuid": "8f2839f25d086af736a60e9eeb907d3b93b6e0e5",
    "execution": {
     "iopub.execute_input": "2022-12-13T18:00:58.491207Z",
     "iopub.status.busy": "2022-12-13T18:00:58.490823Z",
     "iopub.status.idle": "2022-12-13T18:00:58.501226Z",
     "shell.execute_reply": "2022-12-13T18:00:58.500003Z",
     "shell.execute_reply.started": "2022-12-13T18:00:58.491156Z"
    }
   },
   "outputs": [],
   "source": [
    "import numpy as np \n",
    "import pandas as pd\n",
    "import os"
   ]
  },
  {
   "cell_type": "code",
   "execution_count": 3,
   "metadata": {},
   "outputs": [
    {
     "name": "stdout",
     "output_type": "stream",
     "text": [
      "Collecting wget\n",
      "  Downloading wget-3.2.zip (10 kB)\n",
      "  Preparing metadata (setup.py): started\n",
      "  Preparing metadata (setup.py): finished with status 'done'\n",
      "Building wheels for collected packages: wget\n",
      "  Building wheel for wget (setup.py): started\n",
      "  Building wheel for wget (setup.py): finished with status 'done'\n",
      "  Created wheel for wget: filename=wget-3.2-py3-none-any.whl size=9657 sha256=8944a90197fb588fcda58761aac6d402a81e13635651430eb2a015bec564ec22\n",
      "  Stored in directory: c:\\users\\swast\\appdata\\local\\pip\\cache\\wheels\\bd\\a8\\c3\\3cf2c14a1837a4e04bd98631724e81f33f462d86a1d895fae0\n",
      "Successfully built wget\n",
      "Installing collected packages: wget\n",
      "Successfully installed wget-3.2\n"
     ]
    }
   ],
   "source": [
    "!pip install wget"
   ]
  },
  {
   "cell_type": "code",
   "execution_count": 7,
   "metadata": {
    "execution": {
     "iopub.execute_input": "2022-12-13T18:00:58.504518Z",
     "iopub.status.busy": "2022-12-13T18:00:58.503535Z",
     "iopub.status.idle": "2022-12-13T18:00:59.829690Z",
     "shell.execute_reply": "2022-12-13T18:00:59.828380Z",
     "shell.execute_reply.started": "2022-12-13T18:00:58.504482Z"
    }
   },
   "outputs": [
    {
     "name": "stdout",
     "output_type": "stream",
     "text": [
      "\r",
      "  0% [                                                                              ]     0 / 13881\r",
      " 59% [..............................................                                ]  8192 / 13881\r",
      "100% [..............................................................................] 13881 / 13881"
     ]
    },
    {
     "data": {
      "text/plain": [
       "'helper_prabowo_ml.py'"
      ]
     },
     "execution_count": 7,
     "metadata": {},
     "output_type": "execute_result"
    }
   ],
   "source": [
    "import wget\n",
    "wget.download(\"https://raw.githubusercontent.com/yogawicaksana/helper_prabowo/main/helper_prabowo_ml.py\")"
   ]
  },
  {
   "cell_type": "code",
   "execution_count": 8,
   "metadata": {
    "execution": {
     "iopub.execute_input": "2022-12-13T18:00:59.837822Z",
     "iopub.status.busy": "2022-12-13T18:00:59.832809Z",
     "iopub.status.idle": "2022-12-13T18:01:10.910876Z",
     "shell.execute_reply": "2022-12-13T18:01:10.909610Z",
     "shell.execute_reply.started": "2022-12-13T18:00:59.837778Z"
    }
   },
   "outputs": [
    {
     "name": "stdout",
     "output_type": "stream",
     "text": [
      "Collecting transformers\n",
      "  Downloading transformers-4.28.1-py3-none-any.whl (7.0 MB)\n",
      "     ---------------------------------------- 7.0/7.0 MB 6.6 MB/s eta 0:00:00\n",
      "Requirement already satisfied: requests in c:\\users\\swast\\anaconda3\\lib\\site-packages (from transformers) (2.27.1)\n",
      "Requirement already satisfied: filelock in c:\\users\\swast\\anaconda3\\lib\\site-packages (from transformers) (3.0.12)\n",
      "Requirement already satisfied: numpy>=1.17 in c:\\users\\swast\\anaconda3\\lib\\site-packages (from transformers) (1.20.3)\n",
      "Requirement already satisfied: packaging>=20.0 in c:\\users\\swast\\anaconda3\\lib\\site-packages (from transformers) (21.0)\n",
      "Requirement already satisfied: pyyaml>=5.1 in c:\\users\\swast\\anaconda3\\lib\\site-packages (from transformers) (5.4.1)\n",
      "Requirement already satisfied: tqdm>=4.27 in c:\\users\\swast\\anaconda3\\lib\\site-packages (from transformers) (4.64.1)\n",
      "Collecting huggingface-hub<1.0,>=0.11.0\n",
      "  Downloading huggingface_hub-0.13.4-py3-none-any.whl (200 kB)\n",
      "     -------------------------------------- 200.1/200.1 kB 6.1 MB/s eta 0:00:00\n",
      "Collecting tokenizers!=0.11.3,<0.14,>=0.11.1\n",
      "  Downloading tokenizers-0.13.3-cp38-cp38-win_amd64.whl (3.5 MB)\n",
      "     ---------------------------------------- 3.5/3.5 MB 6.3 MB/s eta 0:00:00\n",
      "Requirement already satisfied: regex!=2019.12.17 in c:\\users\\swast\\anaconda3\\lib\\site-packages (from transformers) (2021.8.3)\n",
      "Requirement already satisfied: typing-extensions>=3.7.4.3 in c:\\users\\swast\\anaconda3\\lib\\site-packages (from huggingface-hub<1.0,>=0.11.0->transformers) (3.10.0.2)\n",
      "Requirement already satisfied: pyparsing>=2.0.2 in c:\\users\\swast\\anaconda3\\lib\\site-packages (from packaging>=20.0->transformers) (2.4.7)\n",
      "Requirement already satisfied: colorama in c:\\users\\swast\\anaconda3\\lib\\site-packages (from tqdm>=4.27->transformers) (0.4.4)\n",
      "Requirement already satisfied: urllib3<1.27,>=1.21.1 in c:\\users\\swast\\anaconda3\\lib\\site-packages (from requests->transformers) (1.26.6)\n",
      "Requirement already satisfied: certifi>=2017.4.17 in c:\\users\\swast\\anaconda3\\lib\\site-packages (from requests->transformers) (2021.5.30)\n",
      "Requirement already satisfied: charset-normalizer~=2.0.0 in c:\\users\\swast\\anaconda3\\lib\\site-packages (from requests->transformers) (2.0.4)\n",
      "Requirement already satisfied: idna<4,>=2.5 in c:\\users\\swast\\anaconda3\\lib\\site-packages (from requests->transformers) (3.2)\n",
      "Installing collected packages: tokenizers, huggingface-hub, transformers\n",
      "Successfully installed huggingface-hub-0.13.4 tokenizers-0.13.3 transformers-4.28.1\n"
     ]
    }
   ],
   "source": [
    "!pip install transformers"
   ]
  },
  {
   "cell_type": "code",
   "execution_count": 9,
   "metadata": {
    "execution": {
     "iopub.execute_input": "2022-12-13T18:01:10.913786Z",
     "iopub.status.busy": "2022-12-13T18:01:10.913389Z",
     "iopub.status.idle": "2022-12-13T18:01:10.940049Z",
     "shell.execute_reply": "2022-12-13T18:01:10.937792Z",
     "shell.execute_reply.started": "2022-12-13T18:01:10.913752Z"
    }
   },
   "outputs": [
    {
     "name": "stderr",
     "output_type": "stream",
     "text": [
      "[nltk_data] Downloading package stopwords to\n",
      "[nltk_data]     C:\\Users\\swast\\AppData\\Roaming\\nltk_data...\n",
      "[nltk_data]   Unzipping corpora\\stopwords.zip.\n"
     ]
    }
   ],
   "source": [
    "from helper_prabowo_ml import clean_html, remove_links, non_ascii, lower, email_address, removeStopWords, punct, remove_, remove_special_characters, remove_digits\n",
    "import matplotlib.pyplot as plt\n",
    "import seaborn as sns\n",
    "import warnings, re\n",
    "warnings.filterwarnings(\"ignore\")\n",
    "from sklearn.model_selection import train_test_split\n",
    "from transformers import AutoTokenizer, TFBertModel\n",
    "from tensorflow.keras.utils import to_categorical\n",
    "import tensorflow as tf\n",
    "from tensorflow.keras.layers import Dense, Input, GlobalMaxPool1D, Dropout\n",
    "from tensorflow.keras.models import Model\n",
    "from tensorflow.keras.initializers import TruncatedNormal\n",
    "from tensorflow.keras.optimizers import Adam\n",
    "from tensorflow.keras.losses import CategoricalCrossentropy\n",
    "from tensorflow.keras.metrics import CategoricalAccuracy\n",
    "from sklearn.metrics import classification_report\n",
    "from tensorflow.keras.utils import plot_model"
   ]
  },
  {
   "cell_type": "markdown",
   "metadata": {},
   "source": [
    "## Loading the train, validation and test datasets"
   ]
  },
  {
   "cell_type": "code",
   "execution_count": 11,
   "metadata": {
    "execution": {
     "iopub.execute_input": "2022-12-13T18:01:10.951328Z",
     "iopub.status.busy": "2022-12-13T18:01:10.948594Z",
     "iopub.status.idle": "2022-12-13T18:01:11.034519Z",
     "shell.execute_reply": "2022-12-13T18:01:11.032823Z",
     "shell.execute_reply.started": "2022-12-13T18:01:10.951294Z"
    }
   },
   "outputs": [],
   "source": [
    "train = pd.read_csv(\"data/training.csv\")\n",
    "val = pd.read_csv(\"data/validation.csv\")\n",
    "test = pd.read_csv(\"data/test.csv\")"
   ]
  },
  {
   "cell_type": "markdown",
   "metadata": {},
   "source": [
    "## Combining the train, validation and test datasets into a single dataframe"
   ]
  },
  {
   "cell_type": "code",
   "execution_count": 12,
   "metadata": {
    "execution": {
     "iopub.execute_input": "2022-12-13T18:01:11.041730Z",
     "iopub.status.busy": "2022-12-13T18:01:11.039476Z",
     "iopub.status.idle": "2022-12-13T18:01:11.063212Z",
     "shell.execute_reply": "2022-12-13T18:01:11.062361Z",
     "shell.execute_reply.started": "2022-12-13T18:01:11.041693Z"
    }
   },
   "outputs": [
    {
     "data": {
      "text/html": [
       "<div>\n",
       "<style scoped>\n",
       "    .dataframe tbody tr th:only-of-type {\n",
       "        vertical-align: middle;\n",
       "    }\n",
       "\n",
       "    .dataframe tbody tr th {\n",
       "        vertical-align: top;\n",
       "    }\n",
       "\n",
       "    .dataframe thead th {\n",
       "        text-align: right;\n",
       "    }\n",
       "</style>\n",
       "<table border=\"1\" class=\"dataframe\">\n",
       "  <thead>\n",
       "    <tr style=\"text-align: right;\">\n",
       "      <th></th>\n",
       "      <th>index</th>\n",
       "      <th>text</th>\n",
       "      <th>label</th>\n",
       "    </tr>\n",
       "  </thead>\n",
       "  <tbody>\n",
       "    <tr>\n",
       "      <th>0</th>\n",
       "      <td>11451</td>\n",
       "      <td>i did feeling jolly accomplished currently</td>\n",
       "      <td>1</td>\n",
       "    </tr>\n",
       "    <tr>\n",
       "      <th>1</th>\n",
       "      <td>13691</td>\n",
       "      <td>im not trying to disagree with same sex interc...</td>\n",
       "      <td>4</td>\n",
       "    </tr>\n",
       "    <tr>\n",
       "      <th>2</th>\n",
       "      <td>9410</td>\n",
       "      <td>i feel what its like to be popular</td>\n",
       "      <td>1</td>\n",
       "    </tr>\n",
       "    <tr>\n",
       "      <th>3</th>\n",
       "      <td>9635</td>\n",
       "      <td>i feel oddly reassured to hear you say that</td>\n",
       "      <td>1</td>\n",
       "    </tr>\n",
       "    <tr>\n",
       "      <th>4</th>\n",
       "      <td>132</td>\n",
       "      <td>i have a lot of feelings of love and warmth fo...</td>\n",
       "      <td>3</td>\n",
       "    </tr>\n",
       "  </tbody>\n",
       "</table>\n",
       "</div>"
      ],
      "text/plain": [
       "   index                                               text  label\n",
       "0  11451         i did feeling jolly accomplished currently      1\n",
       "1  13691  im not trying to disagree with same sex interc...      4\n",
       "2   9410                 i feel what its like to be popular      1\n",
       "3   9635        i feel oddly reassured to hear you say that      1\n",
       "4    132  i have a lot of feelings of love and warmth fo...      3"
      ]
     },
     "execution_count": 12,
     "metadata": {},
     "output_type": "execute_result"
    }
   ],
   "source": [
    "df = pd.concat([train,val,test],axis=0)\n",
    "df = df.sample(frac=0.1)\n",
    "df = df.reset_index()\n",
    "df.head()"
   ]
  },
  {
   "cell_type": "code",
   "execution_count": 13,
   "metadata": {
    "execution": {
     "iopub.execute_input": "2022-12-13T18:01:11.069277Z",
     "iopub.status.busy": "2022-12-13T18:01:11.067107Z",
     "iopub.status.idle": "2022-12-13T18:01:11.076302Z",
     "shell.execute_reply": "2022-12-13T18:01:11.075169Z",
     "shell.execute_reply.started": "2022-12-13T18:01:11.069243Z"
    }
   },
   "outputs": [],
   "source": [
    "df.drop('index',axis=1,inplace=True)"
   ]
  },
  {
   "cell_type": "code",
   "execution_count": 14,
   "metadata": {
    "execution": {
     "iopub.execute_input": "2022-12-13T18:01:11.078381Z",
     "iopub.status.busy": "2022-12-13T18:01:11.077649Z",
     "iopub.status.idle": "2022-12-13T18:01:11.088774Z",
     "shell.execute_reply": "2022-12-13T18:01:11.087760Z",
     "shell.execute_reply.started": "2022-12-13T18:01:11.078346Z"
    }
   },
   "outputs": [
    {
     "data": {
      "text/plain": [
       "(2000, 2)"
      ]
     },
     "execution_count": 14,
     "metadata": {},
     "output_type": "execute_result"
    }
   ],
   "source": [
    "df.shape"
   ]
  },
  {
   "cell_type": "markdown",
   "metadata": {},
   "source": [
    "## Text Preprocessing"
   ]
  },
  {
   "cell_type": "code",
   "execution_count": 15,
   "metadata": {
    "execution": {
     "iopub.execute_input": "2022-12-13T18:01:11.091482Z",
     "iopub.status.busy": "2022-12-13T18:01:11.090686Z",
     "iopub.status.idle": "2022-12-13T18:01:11.106464Z",
     "shell.execute_reply": "2022-12-13T18:01:11.105520Z",
     "shell.execute_reply.started": "2022-12-13T18:01:11.091440Z"
    }
   },
   "outputs": [],
   "source": [
    "def preprocess_data(data,col):\n",
    "    data[col] = data[col].apply(func=clean_html)\n",
    "    data[col] = data[col].apply(func=remove_digits)\n",
    "    data[col] = data[col].apply(func=remove_)\n",
    "    data[col] = data[col].apply(func=removeStopWords)\n",
    "    data[col] = data[col].apply(func=remove_links)\n",
    "    data[col] = data[col].apply(func=remove_special_characters)\n",
    "    data[col] = data[col].apply(func=non_ascii)\n",
    "    data[col] = data[col].apply(func=email_address)\n",
    "    data[col] = data[col].apply(func=punct)\n",
    "    data[col] = data[col].apply(func=lower)\n",
    "    return data"
   ]
  },
  {
   "cell_type": "code",
   "execution_count": 17,
   "metadata": {
    "execution": {
     "iopub.execute_input": "2022-12-13T18:01:11.108375Z",
     "iopub.status.busy": "2022-12-13T18:01:11.107777Z",
     "iopub.status.idle": "2022-12-13T18:01:11.604565Z",
     "shell.execute_reply": "2022-12-13T18:01:11.603545Z",
     "shell.execute_reply.started": "2022-12-13T18:01:11.108342Z"
    }
   },
   "outputs": [
    {
     "data": {
      "text/html": [
       "<div>\n",
       "<style scoped>\n",
       "    .dataframe tbody tr th:only-of-type {\n",
       "        vertical-align: middle;\n",
       "    }\n",
       "\n",
       "    .dataframe tbody tr th {\n",
       "        vertical-align: top;\n",
       "    }\n",
       "\n",
       "    .dataframe thead th {\n",
       "        text-align: right;\n",
       "    }\n",
       "</style>\n",
       "<table border=\"1\" class=\"dataframe\">\n",
       "  <thead>\n",
       "    <tr style=\"text-align: right;\">\n",
       "      <th></th>\n",
       "      <th>text</th>\n",
       "      <th>label</th>\n",
       "    </tr>\n",
       "  </thead>\n",
       "  <tbody>\n",
       "    <tr>\n",
       "      <th>0</th>\n",
       "      <td>feeling jolly accomplished currently</td>\n",
       "      <td>1</td>\n",
       "    </tr>\n",
       "    <tr>\n",
       "      <th>1</th>\n",
       "      <td>m trying disagree sex intercourse feels weird gt</td>\n",
       "      <td>4</td>\n",
       "    </tr>\n",
       "    <tr>\n",
       "      <th>2</th>\n",
       "      <td>feel popular</td>\n",
       "      <td>1</td>\n",
       "    </tr>\n",
       "    <tr>\n",
       "      <th>3</th>\n",
       "      <td>feel oddly reassured hear say</td>\n",
       "      <td>1</td>\n",
       "    </tr>\n",
       "    <tr>\n",
       "      <th>4</th>\n",
       "      <td>ot feelings love warmth sometimes think tortured</td>\n",
       "      <td>3</td>\n",
       "    </tr>\n",
       "  </tbody>\n",
       "</table>\n",
       "</div>"
      ],
      "text/plain": [
       "                                               text  label\n",
       "0              feeling jolly accomplished currently      1\n",
       "1  m trying disagree sex intercourse feels weird gt      4\n",
       "2                                      feel popular      1\n",
       "3                     feel oddly reassured hear say      1\n",
       "4  ot feelings love warmth sometimes think tortured      3"
      ]
     },
     "execution_count": 17,
     "metadata": {},
     "output_type": "execute_result"
    }
   ],
   "source": [
    "preprocessed_df = preprocess_data(df,'text')\n",
    "preprocessed_df.head()"
   ]
  },
  {
   "cell_type": "code",
   "execution_count": 18,
   "metadata": {
    "execution": {
     "iopub.execute_input": "2022-12-13T18:01:11.609507Z",
     "iopub.status.busy": "2022-12-13T18:01:11.609193Z",
     "iopub.status.idle": "2022-12-13T18:01:11.615773Z",
     "shell.execute_reply": "2022-12-13T18:01:11.614790Z",
     "shell.execute_reply.started": "2022-12-13T18:01:11.609480Z"
    }
   },
   "outputs": [],
   "source": [
    "preprocessed_df['num_words'] = preprocessed_df.text.apply(len)"
   ]
  },
  {
   "cell_type": "code",
   "execution_count": 19,
   "metadata": {
    "execution": {
     "iopub.execute_input": "2022-12-13T18:01:11.617661Z",
     "iopub.status.busy": "2022-12-13T18:01:11.617122Z",
     "iopub.status.idle": "2022-12-13T18:01:11.632703Z",
     "shell.execute_reply": "2022-12-13T18:01:11.631224Z",
     "shell.execute_reply.started": "2022-12-13T18:01:11.617626Z"
    }
   },
   "outputs": [
    {
     "data": {
      "text/html": [
       "<div>\n",
       "<style scoped>\n",
       "    .dataframe tbody tr th:only-of-type {\n",
       "        vertical-align: middle;\n",
       "    }\n",
       "\n",
       "    .dataframe tbody tr th {\n",
       "        vertical-align: top;\n",
       "    }\n",
       "\n",
       "    .dataframe thead th {\n",
       "        text-align: right;\n",
       "    }\n",
       "</style>\n",
       "<table border=\"1\" class=\"dataframe\">\n",
       "  <thead>\n",
       "    <tr style=\"text-align: right;\">\n",
       "      <th></th>\n",
       "      <th>text</th>\n",
       "      <th>label</th>\n",
       "      <th>num_words</th>\n",
       "    </tr>\n",
       "  </thead>\n",
       "  <tbody>\n",
       "    <tr>\n",
       "      <th>0</th>\n",
       "      <td>feeling jolly accomplished currently</td>\n",
       "      <td>1</td>\n",
       "      <td>36</td>\n",
       "    </tr>\n",
       "    <tr>\n",
       "      <th>1</th>\n",
       "      <td>m trying disagree sex intercourse feels weird gt</td>\n",
       "      <td>4</td>\n",
       "      <td>48</td>\n",
       "    </tr>\n",
       "    <tr>\n",
       "      <th>2</th>\n",
       "      <td>feel popular</td>\n",
       "      <td>1</td>\n",
       "      <td>12</td>\n",
       "    </tr>\n",
       "    <tr>\n",
       "      <th>3</th>\n",
       "      <td>feel oddly reassured hear say</td>\n",
       "      <td>1</td>\n",
       "      <td>29</td>\n",
       "    </tr>\n",
       "    <tr>\n",
       "      <th>4</th>\n",
       "      <td>ot feelings love warmth sometimes think tortured</td>\n",
       "      <td>3</td>\n",
       "      <td>48</td>\n",
       "    </tr>\n",
       "  </tbody>\n",
       "</table>\n",
       "</div>"
      ],
      "text/plain": [
       "                                               text  label  num_words\n",
       "0              feeling jolly accomplished currently      1         36\n",
       "1  m trying disagree sex intercourse feels weird gt      4         48\n",
       "2                                      feel popular      1         12\n",
       "3                     feel oddly reassured hear say      1         29\n",
       "4  ot feelings love warmth sometimes think tortured      3         48"
      ]
     },
     "execution_count": 19,
     "metadata": {},
     "output_type": "execute_result"
    }
   ],
   "source": [
    "preprocessed_df.head()"
   ]
  },
  {
   "cell_type": "code",
   "execution_count": 39,
   "metadata": {
    "execution": {
     "iopub.execute_input": "2022-12-13T18:01:11.634854Z",
     "iopub.status.busy": "2022-12-13T18:01:11.634594Z",
     "iopub.status.idle": "2022-12-13T18:01:11.643710Z",
     "shell.execute_reply": "2022-12-13T18:01:11.642615Z",
     "shell.execute_reply.started": "2022-12-13T18:01:11.634830Z"
    }
   },
   "outputs": [],
   "source": [
    "encoded_labels = {0:'sad',\n",
    "    1:'joy',\n",
    "    2:'love',\n",
    "    3:'anger',\n",
    "    4:'fear',\n",
    "    5:'suprise'} "
   ]
  },
  {
   "cell_type": "markdown",
   "metadata": {},
   "source": [
    "## Train-Test Split"
   ]
  },
  {
   "cell_type": "code",
   "execution_count": 23,
   "metadata": {
    "execution": {
     "iopub.execute_input": "2022-12-13T18:01:11.645388Z",
     "iopub.status.busy": "2022-12-13T18:01:11.644880Z",
     "iopub.status.idle": "2022-12-13T18:01:11.658020Z",
     "shell.execute_reply": "2022-12-13T18:01:11.656969Z",
     "shell.execute_reply.started": "2022-12-13T18:01:11.645354Z"
    }
   },
   "outputs": [],
   "source": [
    "train_data, test_data = train_test_split(preprocessed_df,test_size=0.3,random_state=101,shuffle=True,stratify=preprocessed_df.label)"
   ]
  },
  {
   "cell_type": "markdown",
   "metadata": {},
   "source": [
    "## Loading the Tokenizer class and pretrained BERT model"
   ]
  },
  {
   "cell_type": "code",
   "execution_count": 24,
   "metadata": {
    "execution": {
     "iopub.execute_input": "2022-12-13T18:01:11.660880Z",
     "iopub.status.busy": "2022-12-13T18:01:11.660056Z",
     "iopub.status.idle": "2022-12-13T18:01:14.660889Z",
     "shell.execute_reply": "2022-12-13T18:01:14.659826Z",
     "shell.execute_reply.started": "2022-12-13T18:01:11.660841Z"
    }
   },
   "outputs": [
    {
     "data": {
      "application/vnd.jupyter.widget-view+json": {
       "model_id": "3a9637063fbe4b999627d933275890c2",
       "version_major": 2,
       "version_minor": 0
      },
      "text/plain": [
       "Downloading (…)okenizer_config.json:   0%|          | 0.00/28.0 [00:00<?, ?B/s]"
      ]
     },
     "metadata": {},
     "output_type": "display_data"
    },
    {
     "data": {
      "application/vnd.jupyter.widget-view+json": {
       "model_id": "cbabeaef91264551bc3abac8ff5d2371",
       "version_major": 2,
       "version_minor": 0
      },
      "text/plain": [
       "Downloading (…)lve/main/config.json:   0%|          | 0.00/570 [00:00<?, ?B/s]"
      ]
     },
     "metadata": {},
     "output_type": "display_data"
    },
    {
     "data": {
      "application/vnd.jupyter.widget-view+json": {
       "model_id": "6462f8164b654993a895886180c35f7e",
       "version_major": 2,
       "version_minor": 0
      },
      "text/plain": [
       "Downloading (…)solve/main/vocab.txt:   0%|          | 0.00/232k [00:00<?, ?B/s]"
      ]
     },
     "metadata": {},
     "output_type": "display_data"
    },
    {
     "data": {
      "application/vnd.jupyter.widget-view+json": {
       "model_id": "1d24bf63c5e7456694082b12a32f8240",
       "version_major": 2,
       "version_minor": 0
      },
      "text/plain": [
       "Downloading (…)/main/tokenizer.json:   0%|          | 0.00/466k [00:00<?, ?B/s]"
      ]
     },
     "metadata": {},
     "output_type": "display_data"
    },
    {
     "data": {
      "application/vnd.jupyter.widget-view+json": {
       "model_id": "c8f540cfce054812b6ec5a35af52d765",
       "version_major": 2,
       "version_minor": 0
      },
      "text/plain": [
       "Downloading tf_model.h5:   0%|          | 0.00/536M [00:00<?, ?B/s]"
      ]
     },
     "metadata": {},
     "output_type": "display_data"
    },
    {
     "name": "stderr",
     "output_type": "stream",
     "text": [
      "Some layers from the model checkpoint at bert-base-uncased were not used when initializing TFBertModel: ['mlm___cls', 'nsp___cls']\n",
      "- This IS expected if you are initializing TFBertModel from the checkpoint of a model trained on another task or with another architecture (e.g. initializing a BertForSequenceClassification model from a BertForPreTraining model).\n",
      "- This IS NOT expected if you are initializing TFBertModel from the checkpoint of a model that you expect to be exactly identical (initializing a BertForSequenceClassification model from a BertForSequenceClassification model).\n",
      "All the layers of TFBertModel were initialized from the model checkpoint at bert-base-uncased.\n",
      "If your task is similar to the task the model of the checkpoint was trained on, you can already use TFBertModel for predictions without further training.\n"
     ]
    }
   ],
   "source": [
    "tokenizer = AutoTokenizer.from_pretrained(\"bert-base-uncased\")\n",
    "bert_model = TFBertModel.from_pretrained(\"bert-base-uncased\")"
   ]
  },
  {
   "cell_type": "code",
   "execution_count": 26,
   "metadata": {
    "execution": {
     "iopub.execute_input": "2022-12-13T18:01:14.664379Z",
     "iopub.status.busy": "2022-12-13T18:01:14.663276Z",
     "iopub.status.idle": "2022-12-13T18:01:15.027035Z",
     "shell.execute_reply": "2022-12-13T18:01:15.026061Z",
     "shell.execute_reply.started": "2022-12-13T18:01:14.664337Z"
    }
   },
   "outputs": [
    {
     "data": {
      "text/plain": [
       "<seaborn.axisgrid.FacetGrid at 0x247afad8be0>"
      ]
     },
     "execution_count": 26,
     "metadata": {},
     "output_type": "execute_result"
    },
    {
     "data": {
      "image/png": "[encoded data removed]",
      "text/plain": [
       "<Figure size 864x576 with 1 Axes>"
      ]
     },
     "metadata": {
      "needs_background": "light"
     },
     "output_type": "display_data"
    }
   ],
   "source": [
    "sns.displot(preprocessed_df.num_words,height=8,aspect=1.5)"
   ]
  },
  {
   "cell_type": "code",
   "execution_count": 48,
   "metadata": {
    "execution": {
     "iopub.execute_input": "2022-12-13T18:01:15.030135Z",
     "iopub.status.busy": "2022-12-13T18:01:15.029154Z",
     "iopub.status.idle": "2022-12-13T18:01:15.034593Z",
     "shell.execute_reply": "2022-12-13T18:01:15.033530Z",
     "shell.execute_reply.started": "2022-12-13T18:01:15.030088Z"
    }
   },
   "outputs": [],
   "source": [
    "max_len = 39"
   ]
  },
  {
   "cell_type": "markdown",
   "metadata": {},
   "source": [
    "## Text Tokenization"
   ]
  },
  {
   "cell_type": "code",
   "execution_count": 49,
   "metadata": {
    "execution": {
     "iopub.execute_input": "2022-12-13T18:01:15.036578Z",
     "iopub.status.busy": "2022-12-13T18:01:15.036031Z",
     "iopub.status.idle": "2022-12-13T18:01:15.140999Z",
     "shell.execute_reply": "2022-12-13T18:01:15.140145Z",
     "shell.execute_reply.started": "2022-12-13T18:01:15.036543Z"
    }
   },
   "outputs": [],
   "source": [
    "X_train = tokenizer(text=train_data.text.tolist(),\n",
    "                   add_special_tokens=True,\n",
    "                   return_tensors='tf',\n",
    "                   max_length=max_len,\n",
    "                   padding=True,\n",
    "                   truncation=True,\n",
    "                   return_token_type_ids=False,\n",
    "                   return_attention_mask=True,\n",
    "                   verbose=True\n",
    "                   )\n",
    "\n",
    "X_test = tokenizer(text=test_data.text.tolist(),\n",
    "                   add_special_tokens=True,\n",
    "                   return_tensors='tf',\n",
    "                   max_length=max_len,\n",
    "                   padding=True,\n",
    "                   truncation=True,\n",
    "                   return_token_type_ids=False,\n",
    "                   return_attention_mask=True,\n",
    "                   verbose=True\n",
    "                  )"
   ]
  },
  {
   "cell_type": "markdown",
   "metadata": {},
   "source": [
    "## Defining the model architecture"
   ]
  },
  {
   "cell_type": "code",
   "execution_count": 50,
   "metadata": {
    "execution": {
     "iopub.execute_input": "2022-12-13T18:01:15.142568Z",
     "iopub.status.busy": "2022-12-13T18:01:15.142246Z",
     "iopub.status.idle": "2022-12-13T18:01:15.151049Z",
     "shell.execute_reply": "2022-12-13T18:01:15.150081Z",
     "shell.execute_reply.started": "2022-12-13T18:01:15.142533Z"
    }
   },
   "outputs": [],
   "source": [
    "input_ids = Input(shape=(max_len,),name='input_ids',dtype=tf.int32)\n",
    "attention_mask = Input(shape=(max_len,),name='attention_mask',dtype=tf.int32)"
   ]
  },
  {
   "cell_type": "code",
   "execution_count": 51,
   "metadata": {
    "execution": {
     "iopub.execute_input": "2022-12-13T18:01:15.153257Z",
     "iopub.status.busy": "2022-12-13T18:01:15.152619Z",
     "iopub.status.idle": "2022-12-13T18:01:16.727568Z",
     "shell.execute_reply": "2022-12-13T18:01:16.726591Z",
     "shell.execute_reply.started": "2022-12-13T18:01:15.153223Z"
    }
   },
   "outputs": [],
   "source": [
    "embeddings = bert_model(input_ids,attention_mask=attention_mask)[0] # 0: final hidden state, 1: pooling output\n",
    "output = GlobalMaxPool1D()(embeddings)\n",
    "output = Dense(units=128,activation='relu')(output)\n",
    "output = Dropout(0.1)(output)\n",
    "output = Dense(units=64,activation='relu')(output)\n",
    "output = Dense(units=32,activation='relu')(output)\n",
    "y = Dense(units=6,activation='softmax')(output)\n",
    "\n",
    "model = Model(inputs=[input_ids,attention_mask],outputs=y)\n",
    "model.layers[2].trainable = True"
   ]
  },
  {
   "cell_type": "markdown",
   "metadata": {},
   "source": [
    "## Compiling the model"
   ]
  },
  {
   "cell_type": "code",
   "execution_count": 52,
   "metadata": {
    "execution": {
     "iopub.execute_input": "2022-12-13T18:01:16.729456Z",
     "iopub.status.busy": "2022-12-13T18:01:16.729060Z",
     "iopub.status.idle": "2022-12-13T18:01:16.747385Z",
     "shell.execute_reply": "2022-12-13T18:01:16.746538Z",
     "shell.execute_reply.started": "2022-12-13T18:01:16.729421Z"
    }
   },
   "outputs": [],
   "source": [
    "model.compile(loss=CategoricalCrossentropy(from_logits=True),\n",
    "              optimizer=Adam(learning_rate=5e-5,epsilon=1e-8,decay=0.01,clipnorm=1.0),\n",
    "              metrics=CategoricalAccuracy('balanced_accuracy'))"
   ]
  },
  {
   "cell_type": "markdown",
   "metadata": {},
   "source": [
    "## Encoding the emotion labels"
   ]
  },
  {
   "cell_type": "code",
   "execution_count": 53,
   "metadata": {
    "execution": {
     "iopub.execute_input": "2022-12-13T18:01:16.749068Z",
     "iopub.status.busy": "2022-12-13T18:01:16.748630Z",
     "iopub.status.idle": "2022-12-13T18:01:16.758232Z",
     "shell.execute_reply": "2022-12-13T18:01:16.757304Z",
     "shell.execute_reply.started": "2022-12-13T18:01:16.749021Z"
    }
   },
   "outputs": [],
   "source": [
    "train_data['Label'] = train_data.label.map(encoded_labels)\n",
    "test_data['Label'] = test_data.label.map(encoded_labels)"
   ]
  },
  {
   "cell_type": "code",
   "execution_count": 54,
   "metadata": {
    "execution": {
     "iopub.execute_input": "2022-12-13T18:01:16.760086Z",
     "iopub.status.busy": "2022-12-13T18:01:16.759642Z",
     "iopub.status.idle": "2022-12-13T18:01:16.771817Z",
     "shell.execute_reply": "2022-12-13T18:01:16.770678Z",
     "shell.execute_reply.started": "2022-12-13T18:01:16.760050Z"
    }
   },
   "outputs": [
    {
     "data": {
      "text/html": [
       "<div>\n",
       "<style scoped>\n",
       "    .dataframe tbody tr th:only-of-type {\n",
       "        vertical-align: middle;\n",
       "    }\n",
       "\n",
       "    .dataframe tbody tr th {\n",
       "        vertical-align: top;\n",
       "    }\n",
       "\n",
       "    .dataframe thead th {\n",
       "        text-align: right;\n",
       "    }\n",
       "</style>\n",
       "<table border=\"1\" class=\"dataframe\">\n",
       "  <thead>\n",
       "    <tr style=\"text-align: right;\">\n",
       "      <th></th>\n",
       "      <th>text</th>\n",
       "      <th>label</th>\n",
       "      <th>num_words</th>\n",
       "      <th>Label</th>\n",
       "    </tr>\n",
       "  </thead>\n",
       "  <tbody>\n",
       "    <tr>\n",
       "      <th>1218</th>\n",
       "      <td>would feel ungrateful didnt thank know</td>\n",
       "      <td>0</td>\n",
       "      <td>38</td>\n",
       "      <td>sad</td>\n",
       "    </tr>\n",
       "    <tr>\n",
       "      <th>1763</th>\n",
       "      <td>suppose natural id start feel little homesick ...</td>\n",
       "      <td>0</td>\n",
       "      <td>67</td>\n",
       "      <td>sad</td>\n",
       "    </tr>\n",
       "    <tr>\n",
       "      <th>254</th>\n",
       "      <td>feel even dangerous though youre pouring time ...</td>\n",
       "      <td>3</td>\n",
       "      <td>102</td>\n",
       "      <td>anger</td>\n",
       "    </tr>\n",
       "    <tr>\n",
       "      <th>317</th>\n",
       "      <td>dont christmas feel lost meaning</td>\n",
       "      <td>0</td>\n",
       "      <td>32</td>\n",
       "      <td>sad</td>\n",
       "    </tr>\n",
       "    <tr>\n",
       "      <th>957</th>\n",
       "      <td>found life coaching hundreds people past years...</td>\n",
       "      <td>0</td>\n",
       "      <td>159</td>\n",
       "      <td>sad</td>\n",
       "    </tr>\n",
       "  </tbody>\n",
       "</table>\n",
       "</div>"
      ],
      "text/plain": [
       "                                                   text  label  num_words  \\\n",
       "1218             would feel ungrateful didnt thank know      0         38   \n",
       "1763  suppose natural id start feel little homesick ...      0         67   \n",
       "254   feel even dangerous though youre pouring time ...      3        102   \n",
       "317                    dont christmas feel lost meaning      0         32   \n",
       "957   found life coaching hundreds people past years...      0        159   \n",
       "\n",
       "      Label  \n",
       "1218    sad  \n",
       "1763    sad  \n",
       "254   anger  \n",
       "317     sad  \n",
       "957     sad  "
      ]
     },
     "execution_count": 54,
     "metadata": {},
     "output_type": "execute_result"
    }
   ],
   "source": [
    "train_data.head()"
   ]
  },
  {
   "cell_type": "code",
   "execution_count": 55,
   "metadata": {
    "execution": {
     "iopub.execute_input": "2022-12-13T18:01:16.773868Z",
     "iopub.status.busy": "2022-12-13T18:01:16.773519Z",
     "iopub.status.idle": "2022-12-13T18:01:16.786695Z",
     "shell.execute_reply": "2022-12-13T18:01:16.785643Z",
     "shell.execute_reply.started": "2022-12-13T18:01:16.773834Z"
    }
   },
   "outputs": [
    {
     "data": {
      "text/html": [
       "<div>\n",
       "<style scoped>\n",
       "    .dataframe tbody tr th:only-of-type {\n",
       "        vertical-align: middle;\n",
       "    }\n",
       "\n",
       "    .dataframe tbody tr th {\n",
       "        vertical-align: top;\n",
       "    }\n",
       "\n",
       "    .dataframe thead th {\n",
       "        text-align: right;\n",
       "    }\n",
       "</style>\n",
       "<table border=\"1\" class=\"dataframe\">\n",
       "  <thead>\n",
       "    <tr style=\"text-align: right;\">\n",
       "      <th></th>\n",
       "      <th>text</th>\n",
       "      <th>label</th>\n",
       "      <th>num_words</th>\n",
       "      <th>Label</th>\n",
       "    </tr>\n",
       "  </thead>\n",
       "  <tbody>\n",
       "    <tr>\n",
       "      <th>266</th>\n",
       "      <td>feel nervous going back america knowing expect...</td>\n",
       "      <td>4</td>\n",
       "      <td>56</td>\n",
       "      <td>fear</td>\n",
       "    </tr>\n",
       "    <tr>\n",
       "      <th>1329</th>\n",
       "      <td>feel uncontrollably agitated idea</td>\n",
       "      <td>4</td>\n",
       "      <td>33</td>\n",
       "      <td>fear</td>\n",
       "    </tr>\n",
       "    <tr>\n",
       "      <th>753</th>\n",
       "      <td>spring fling feeling flower unfurling artistic...</td>\n",
       "      <td>1</td>\n",
       "      <td>66</td>\n",
       "      <td>joy</td>\n",
       "    </tr>\n",
       "    <tr>\n",
       "      <th>50</th>\n",
       "      <td>feel virtuous seconds reflect spend something ...</td>\n",
       "      <td>1</td>\n",
       "      <td>97</td>\n",
       "      <td>joy</td>\n",
       "    </tr>\n",
       "    <tr>\n",
       "      <th>65</th>\n",
       "      <td>feel bit stupid writing true</td>\n",
       "      <td>0</td>\n",
       "      <td>28</td>\n",
       "      <td>sad</td>\n",
       "    </tr>\n",
       "  </tbody>\n",
       "</table>\n",
       "</div>"
      ],
      "text/plain": [
       "                                                   text  label  num_words  \\\n",
       "266   feel nervous going back america knowing expect...      4         56   \n",
       "1329                  feel uncontrollably agitated idea      4         33   \n",
       "753   spring fling feeling flower unfurling artistic...      1         66   \n",
       "50    feel virtuous seconds reflect spend something ...      1         97   \n",
       "65                         feel bit stupid writing true      0         28   \n",
       "\n",
       "     Label  \n",
       "266   fear  \n",
       "1329  fear  \n",
       "753    joy  \n",
       "50     joy  \n",
       "65     sad  "
      ]
     },
     "execution_count": 55,
     "metadata": {},
     "output_type": "execute_result"
    }
   ],
   "source": [
    "test_data.head()"
   ]
  },
  {
   "cell_type": "markdown",
   "metadata": {},
   "source": [
    "## Generating the model summary and plot"
   ]
  },
  {
   "cell_type": "code",
   "execution_count": 56,
   "metadata": {
    "execution": {
     "iopub.execute_input": "2022-12-13T18:01:16.788461Z",
     "iopub.status.busy": "2022-12-13T18:01:16.787996Z",
     "iopub.status.idle": "2022-12-13T18:01:16.809105Z",
     "shell.execute_reply": "2022-12-13T18:01:16.807712Z",
     "shell.execute_reply.started": "2022-12-13T18:01:16.788427Z"
    }
   },
   "outputs": [
    {
     "name": "stdout",
     "output_type": "stream",
     "text": [
      "Model: \"model_1\"\n",
      "__________________________________________________________________________________________________\n",
      " Layer (type)                   Output Shape         Param #     Connected to                     \n",
      "==================================================================================================\n",
      " input_ids (InputLayer)         [(None, 39)]         0           []                               \n",
      "                                                                                                  \n",
      " attention_mask (InputLayer)    [(None, 39)]         0           []                               \n",
      "                                                                                                  \n",
      " tf_bert_model (TFBertModel)    multiple             109482240   ['input_ids[0][0]',              \n",
      "                                                                  'attention_mask[0][0]']         \n",
      "                                                                                                  \n",
      " global_max_pooling1d_1 (Global  (None, 768)         0           ['tf_bert_model[1][0]']          \n",
      " MaxPooling1D)                                                                                    \n",
      "                                                                                                  \n",
      " dense_4 (Dense)                (None, 128)          98432       ['global_max_pooling1d_1[0][0]'] \n",
      "                                                                                                  \n",
      " dropout_38 (Dropout)           (None, 128)          0           ['dense_4[0][0]']                \n",
      "                                                                                                  \n",
      " dense_5 (Dense)                (None, 64)           8256        ['dropout_38[0][0]']             \n",
      "                                                                                                  \n",
      " dense_6 (Dense)                (None, 32)           2080        ['dense_5[0][0]']                \n",
      "                                                                                                  \n",
      " dense_7 (Dense)                (None, 6)            198         ['dense_6[0][0]']                \n",
      "                                                                                                  \n",
      "==================================================================================================\n",
      "Total params: 109,591,206\n",
      "Trainable params: 109,591,206\n",
      "Non-trainable params: 0\n",
      "__________________________________________________________________________________________________\n"
     ]
    }
   ],
   "source": [
    "model.summary()"
   ]
  },
  {
   "cell_type": "code",
   "execution_count": 57,
   "metadata": {
    "execution": {
     "iopub.execute_input": "2022-12-13T18:01:16.824422Z",
     "iopub.status.busy": "2022-12-13T18:01:16.823769Z",
     "iopub.status.idle": "2022-12-13T18:01:17.507350Z",
     "shell.execute_reply": "2022-12-13T18:01:17.506142Z",
     "shell.execute_reply.started": "2022-12-13T18:01:16.824385Z"
    }
   },
   "outputs": [
    {
     "name": "stdout",
     "output_type": "stream",
     "text": [
      "You must install pydot (`pip install pydot`) and install graphviz (see instructions at https://graphviz.gitlab.io/download/) for plot_model to work.\n"
     ]
    }
   ],
   "source": [
    "plot_model(model,'model.png',show_shapes=True,dpi=100)"
   ]
  },
  {
   "cell_type": "markdown",
   "metadata": {},
   "source": [
    "## Training and fine-tuning the pretrained BERT model "
   ]
  },
  {
   "cell_type": "code",
   "execution_count": 59,
   "metadata": {
    "execution": {
     "iopub.execute_input": "2022-12-13T18:01:17.510944Z",
     "iopub.status.busy": "2022-12-13T18:01:17.509027Z",
     "iopub.status.idle": "2022-12-13T18:05:01.087510Z",
     "shell.execute_reply": "2022-12-13T18:05:01.086444Z",
     "shell.execute_reply.started": "2022-12-13T18:01:17.510897Z"
    }
   },
   "outputs": [
    {
     "name": "stdout",
     "output_type": "stream",
     "text": [
      "Epoch 1/10\n",
      "44/44 [==============================] - 386s 9s/step - loss: 1.2275 - balanced_accuracy: 0.5607 - val_loss: 1.0756 - val_balanced_accuracy: 0.5983\n",
      "Epoch 2/10\n",
      "44/44 [==============================] - 379s 9s/step - loss: 0.8549 - balanced_accuracy: 0.7129 - val_loss: 0.7558 - val_balanced_accuracy: 0.7383\n",
      "Epoch 3/10\n",
      "44/44 [==============================] - 367s 8s/step - loss: 0.5147 - balanced_accuracy: 0.8321 - val_loss: 0.6905 - val_balanced_accuracy: 0.7733\n",
      "Epoch 4/10\n",
      "44/44 [==============================] - 373s 9s/step - loss: 0.3103 - balanced_accuracy: 0.9100 - val_loss: 0.5573 - val_balanced_accuracy: 0.8167\n",
      "Epoch 5/10\n",
      "44/44 [==============================] - 403s 9s/step - loss: 0.1717 - balanced_accuracy: 0.9586 - val_loss: 0.5623 - val_balanced_accuracy: 0.8350\n",
      "Epoch 6/10\n",
      "44/44 [==============================] - 393s 9s/step - loss: 0.1178 - balanced_accuracy: 0.9750 - val_loss: 0.5532 - val_balanced_accuracy: 0.8417\n",
      "Epoch 7/10\n",
      "44/44 [==============================] - 370s 8s/step - loss: 0.0788 - balanced_accuracy: 0.9864 - val_loss: 0.5075 - val_balanced_accuracy: 0.8583\n",
      "Epoch 8/10\n",
      "44/44 [==============================] - 390s 9s/step - loss: 0.0526 - balanced_accuracy: 0.9936 - val_loss: 0.5483 - val_balanced_accuracy: 0.8533\n",
      "Epoch 9/10\n",
      "44/44 [==============================] - 375s 9s/step - loss: 0.0465 - balanced_accuracy: 0.9929 - val_loss: 0.5739 - val_balanced_accuracy: 0.8400\n",
      "Epoch 10/10\n",
      "44/44 [==============================] - 373s 8s/step - loss: 0.0349 - balanced_accuracy: 0.9943 - val_loss: 0.6110 - val_balanced_accuracy: 0.8583\n"
     ]
    }
   ],
   "source": [
    "r = model.fit(x={'input_ids': X_train['input_ids'], 'attention_mask': X_train['attention_mask']},\n",
    "             y=to_categorical(train_data.label),\n",
    "             epochs=10,\n",
    "             batch_size=32,\n",
    "             validation_data=({'input_ids': X_test['input_ids'], 'attention_mask': X_test['attention_mask']},to_categorical(test_data.label))\n",
    "             )"
   ]
  },
  {
   "cell_type": "markdown",
   "metadata": {},
   "source": [
    "## Analyzing model performance"
   ]
  },
  {
   "cell_type": "code",
   "execution_count": 60,
   "metadata": {
    "execution": {
     "iopub.execute_input": "2022-12-13T18:05:01.090755Z",
     "iopub.status.busy": "2022-12-13T18:05:01.090348Z",
     "iopub.status.idle": "2022-12-13T18:05:01.341971Z",
     "shell.execute_reply": "2022-12-13T18:05:01.340961Z",
     "shell.execute_reply.started": "2022-12-13T18:05:01.090718Z"
    }
   },
   "outputs": [
    {
     "data": {
      "image/png": "[encoded data removed]",
      "text/plain": [
       "<Figure size 864x576 with 1 Axes>"
      ]
     },
     "metadata": {
      "needs_background": "light"
     },
     "output_type": "display_data"
    }
   ],
   "source": [
    "plt.figure(figsize=(12,8))\n",
    "plt.plot(r.history['loss'],'r',label='train loss')\n",
    "plt.plot(r.history['val_loss'],'b',label='test loss')\n",
    "plt.xlabel('No. of Epochs')\n",
    "plt.ylabel('Loss')\n",
    "plt.title('Loss Graph')\n",
    "plt.legend();"
   ]
  },
  {
   "cell_type": "code",
   "execution_count": 61,
   "metadata": {
    "execution": {
     "iopub.execute_input": "2022-12-13T18:05:01.347917Z",
     "iopub.status.busy": "2022-12-13T18:05:01.347043Z",
     "iopub.status.idle": "2022-12-13T18:05:01.587962Z",
     "shell.execute_reply": "2022-12-13T18:05:01.587052Z",
     "shell.execute_reply.started": "2022-12-13T18:05:01.347880Z"
    }
   },
   "outputs": [
    {
     "data": {
      "image/png": "[encoded data removed]",
      "text/plain": [
       "<Figure size 864x576 with 1 Axes>"
      ]
     },
     "metadata": {
      "needs_background": "light"
     },
     "output_type": "display_data"
    }
   ],
   "source": [
    "plt.figure(figsize=(12,8))\n",
    "plt.plot(r.history['balanced_accuracy'],'r',label='train accuracy')\n",
    "plt.plot(r.history['val_balanced_accuracy'],'b',label='test accuracy')\n",
    "plt.xlabel('No. of Epochs')\n",
    "plt.ylabel('Accuracy')\n",
    "plt.title('Accuracy Graph')\n",
    "plt.legend();"
   ]
  },
  {
   "cell_type": "markdown",
   "metadata": {},
   "source": [
    "## Saving the model"
   ]
  },
  {
   "cell_type": "code",
   "execution_count": 62,
   "metadata": {
    "execution": {
     "iopub.execute_input": "2022-12-13T18:05:18.984902Z",
     "iopub.status.busy": "2022-12-13T18:05:18.984526Z",
     "iopub.status.idle": "2022-12-13T18:05:22.792132Z",
     "shell.execute_reply": "2022-12-13T18:05:22.790967Z",
     "shell.execute_reply.started": "2022-12-13T18:05:18.984872Z"
    }
   },
   "outputs": [],
   "source": [
    "model.save(\"emotion_detector.h5\")"
   ]
  },
  {
   "cell_type": "markdown",
   "metadata": {},
   "source": [
    "## Evaluating the model on the test dataset"
   ]
  },
  {
   "cell_type": "code",
   "execution_count": 64,
   "metadata": {
    "execution": {
     "iopub.execute_input": "2022-12-13T18:05:22.795044Z",
     "iopub.status.busy": "2022-12-13T18:05:22.794443Z",
     "iopub.status.idle": "2022-12-13T18:05:28.759338Z",
     "shell.execute_reply": "2022-12-13T18:05:28.758346Z",
     "shell.execute_reply.started": "2022-12-13T18:05:22.795003Z"
    }
   },
   "outputs": [
    {
     "name": "stdout",
     "output_type": "stream",
     "text": [
      "19/19 [==============================] - 51s 2s/step - loss: 0.6110 - balanced_accuracy: 0.8583\n",
      "Test Categorical Cross-Entropy Loss: 0.6109983325004578\n",
      "Test Categorical Accuracy: 0.8583333492279053\n"
     ]
    }
   ],
   "source": [
    "loss, acc = model.evaluate({'input_ids': X_test['input_ids'], 'attention_mask': X_test['attention_mask']},to_categorical(test_data.label))\n",
    "print(\"Test Categorical Cross-Entropy Loss:\",loss)\n",
    "print(\"Test Categorical Accuracy:\",acc)"
   ]
  },
  {
   "cell_type": "code",
   "execution_count": 66,
   "metadata": {
    "execution": {
     "iopub.execute_input": "2022-12-13T18:05:28.761706Z",
     "iopub.status.busy": "2022-12-13T18:05:28.761010Z",
     "iopub.status.idle": "2022-12-13T18:05:31.759064Z",
     "shell.execute_reply": "2022-12-13T18:05:31.757861Z",
     "shell.execute_reply.started": "2022-12-13T18:05:28.761668Z"
    },
    "scrolled": true
   },
   "outputs": [
    {
     "name": "stdout",
     "output_type": "stream",
     "text": [
      "19/19 [==============================] - 49s 2s/step\n",
      "              precision    recall  f1-score   support\n",
      "\n",
      "           0       0.93      0.90      0.91       167\n",
      "           1       0.85      0.93      0.89       213\n",
      "           2       0.64      0.46      0.53        46\n",
      "           3       0.89      0.86      0.88        78\n",
      "           4       0.85      0.82      0.83        71\n",
      "           5       0.71      0.80      0.75        25\n",
      "\n",
      "    accuracy                           0.86       600\n",
      "   macro avg       0.81      0.79      0.80       600\n",
      "weighted avg       0.86      0.86      0.85       600\n",
      "\n"
     ]
    }
   ],
   "source": [
    "test_predictions = model.predict({'input_ids': X_test['input_ids'], 'attention_mask': X_test['attention_mask']})\n",
    "test_predictions = np.argmax(test_predictions,axis=1)\n",
    "print(classification_report(test_data.label,test_predictions))"
   ]
  },
  {
   "cell_type": "markdown",
   "metadata": {},
   "source": [
    "The result is quite promising as we've obtained an excellent f1-score of almost 80% for all the 6 emotion classes."
   ]
  }
 ],
 "metadata": {
  "kernelspec": {
   "display_name": "Python 3 (ipykernel)",
   "language": "python",
   "name": "python3"
  },
  "language_info": {
   "codemirror_mode": {
    "name": "ipython",
    "version": 3
   },
   "file_extension": ".py",
   "mimetype": "text/x-python",
   "name": "python",
   "nbconvert_exporter": "python",
   "pygments_lexer": "ipython3",
   "version": "3.10.9"
  }
 },
 "nbformat": 4,
 "nbformat_minor": 4
}
